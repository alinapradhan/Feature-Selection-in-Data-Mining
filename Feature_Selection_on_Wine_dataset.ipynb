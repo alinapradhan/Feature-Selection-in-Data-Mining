{
  "nbformat": 4,
  "nbformat_minor": 0,
  "metadata": {
    "colab": {
      "provenance": [],
      "authorship_tag": "ABX9TyPMWEBuberzsWb88hAwoxTF",
      "include_colab_link": true
    },
    "kernelspec": {
      "name": "python3",
      "display_name": "Python 3"
    },
    "language_info": {
      "name": "python"
    }
  },
  "cells": [
    {
      "cell_type": "markdown",
      "metadata": {
        "id": "view-in-github",
        "colab_type": "text"
      },
      "source": [
        "<a href=\"https://colab.research.google.com/github/alinapradhan/Feature-Selection-in-Data-Mining/blob/main/Feature_Selection_on_Wine_dataset.ipynb\" target=\"_parent\"><img src=\"https://colab.research.google.com/assets/colab-badge.svg\" alt=\"Open In Colab\"/></a>"
      ]
    },
    {
      "cell_type": "code",
      "execution_count": 2,
      "metadata": {
        "id": "Kw4QDxSulb5q"
      },
      "outputs": [],
      "source": [
        "# Imports\n",
        "import numpy as np\n",
        "import pandas as pd\n",
        "from sklearn.datasets import load_wine\n",
        "from sklearn.feature_selection import (\n",
        "    SelectKBest,\n",
        "    chi2,\n",
        "    f_classif,\n",
        "    VarianceThreshold,\n",
        "    RFE,\n",
        ")\n",
        "from sklearn.model_selection import train_test_split\n",
        "from sklearn.linear_model import LogisticRegression, LassoCV\n",
        "from sklearn.ensemble import RandomForestClassifier\n",
        "from sklearn.preprocessing import StandardScaler\n",
        "from mlxtend.feature_selection import SequentialFeatureSelector"
      ]
    },
    {
      "cell_type": "code",
      "source": [
        "# Load dataset\n",
        "wine = load_wine()\n",
        "X = pd.DataFrame(wine.data, columns=wine.feature_names)\n",
        "y = pd.Series(wine.target)\n",
        "\n",
        "# Display sample data\n",
        "print(\"Sample dataframe:\")\n",
        "print(X.head())"
      ],
      "metadata": {
        "colab": {
          "base_uri": "https://localhost:8080/"
        },
        "id": "qk4veElblppi",
        "outputId": "3a74de4d-a442-43bb-b0cd-df9b36515f56"
      },
      "execution_count": 3,
      "outputs": [
        {
          "output_type": "stream",
          "name": "stdout",
          "text": [
            "Sample dataframe:\n",
            "   alcohol  malic_acid   ash  alcalinity_of_ash  magnesium  total_phenols  \\\n",
            "0    14.23        1.71  2.43               15.6      127.0           2.80   \n",
            "1    13.20        1.78  2.14               11.2      100.0           2.65   \n",
            "2    13.16        2.36  2.67               18.6      101.0           2.80   \n",
            "3    14.37        1.95  2.50               16.8      113.0           3.85   \n",
            "4    13.24        2.59  2.87               21.0      118.0           2.80   \n",
            "\n",
            "   flavanoids  nonflavanoid_phenols  proanthocyanins  color_intensity   hue  \\\n",
            "0        3.06                  0.28             2.29             5.64  1.04   \n",
            "1        2.76                  0.26             1.28             4.38  1.05   \n",
            "2        3.24                  0.30             2.81             5.68  1.03   \n",
            "3        3.49                  0.24             2.18             7.80  0.86   \n",
            "4        2.69                  0.39             1.82             4.32  1.04   \n",
            "\n",
            "   od280/od315_of_diluted_wines  proline  \n",
            "0                          3.92   1065.0  \n",
            "1                          3.40   1050.0  \n",
            "2                          3.17   1185.0  \n",
            "3                          3.45   1480.0  \n",
            "4                          2.93    735.0  \n"
          ]
        }
      ]
    },
    {
      "cell_type": "code",
      "source": [
        "# Normalize features\n",
        "scaler = StandardScaler()\n",
        "X_scaled = scaler.fit_transform(X)\n",
        "X_scaled = pd.DataFrame(X_scaled, columns=X.columns)\n"
      ],
      "metadata": {
        "id": "sp6H4fyOlpnU"
      },
      "execution_count": 4,
      "outputs": []
    },
    {
      "cell_type": "code",
      "source": [
        "# === 1. Filter Methods ===\n",
        "print(\"\\n=== Filter Methods ===\")\n",
        "\n",
        "# Info Gain (ANOVA F-value)\n",
        "f_scores, _ = f_classif(X_scaled, y)\n",
        "info_gain = pd.Series(f_scores, index=X.columns)\n",
        "print(\"Top features by info gain:\")\n",
        "print(info_gain.sort_values(ascending=False).head())"
      ],
      "metadata": {
        "colab": {
          "base_uri": "https://localhost:8080/"
        },
        "id": "f3cSRJKclpjV",
        "outputId": "e36a453c-dbda-40a2-e1d8-e4edd8ddb72f"
      },
      "execution_count": 5,
      "outputs": [
        {
          "output_type": "stream",
          "name": "stdout",
          "text": [
            "\n",
            "=== Filter Methods ===\n",
            "Top features by info gain:\n",
            "flavanoids                      233.925873\n",
            "proline                         207.920374\n",
            "od280/od315_of_diluted_wines    189.972321\n",
            "alcohol                         135.077624\n",
            "color_intensity                 120.664018\n",
            "dtype: float64\n"
          ]
        }
      ]
    },
    {
      "cell_type": "code",
      "source": [
        "\n",
        "# Chi-square Test\n",
        "chi_scores, _ = chi2(np.abs(X_scaled), y)\n",
        "chi2_scores = pd.Series(chi_scores, index=X.columns)\n",
        "print(\"\\nTop features by chi-square test:\")\n",
        "print(chi2_scores.sort_values(ascending=False).head())\n"
      ],
      "metadata": {
        "colab": {
          "base_uri": "https://localhost:8080/"
        },
        "id": "iudXA-FZlphy",
        "outputId": "5db8ae95-77f4-413f-eb60-5d6595f9bc22"
      },
      "execution_count": 6,
      "outputs": [
        {
          "output_type": "stream",
          "name": "stdout",
          "text": [
            "\n",
            "Top features by chi-square test:\n",
            "flavanoids                      18.764102\n",
            "proline                         17.681719\n",
            "color_intensity                 15.980559\n",
            "od280/od315_of_diluted_wines    15.975706\n",
            "hue                             13.225143\n",
            "dtype: float64\n"
          ]
        }
      ]
    },
    {
      "cell_type": "code",
      "source": [
        "\n",
        "# Correlation Coefficient\n",
        "corre = X.corrwith(y)\n",
        "print(\"\\nTop features by Correlation Coefficient:\")\n",
        "print(corre.abs().sort_values(ascending=False).head())"
      ],
      "metadata": {
        "colab": {
          "base_uri": "https://localhost:8080/"
        },
        "id": "35qU4MvPlpeK",
        "outputId": "63dc5c37-5dde-44b3-8968-56ef61a7d597"
      },
      "execution_count": 7,
      "outputs": [
        {
          "output_type": "stream",
          "name": "stdout",
          "text": [
            "\n",
            "Top features by Correlation Coefficient:\n",
            "flavanoids                      0.847498\n",
            "od280/od315_of_diluted_wines    0.788230\n",
            "total_phenols                   0.719163\n",
            "proline                         0.633717\n",
            "hue                             0.617369\n",
            "dtype: float64\n"
          ]
        }
      ]
    },
    {
      "cell_type": "markdown",
      "source": [],
      "metadata": {
        "id": "qSliAUROmzCk"
      }
    },
    {
      "cell_type": "code",
      "source": [
        "\n",
        "# Variance Threshold\n",
        "vt = VarianceThreshold(threshold=0.01)\n",
        "vt.fit(X)\n",
        "var_features = X.columns[vt.get_support()]\n",
        "print(\"\\nTop features by variance threshold:\")\n",
        "print(var_features)"
      ],
      "metadata": {
        "colab": {
          "base_uri": "https://localhost:8080/"
        },
        "id": "f16DumgOlpcm",
        "outputId": "1a689a8e-c72b-4ca9-feaa-8c08debdb0ef"
      },
      "execution_count": 8,
      "outputs": [
        {
          "output_type": "stream",
          "name": "stdout",
          "text": [
            "\n",
            "Top features by variance threshold:\n",
            "Index(['alcohol', 'malic_acid', 'ash', 'alcalinity_of_ash', 'magnesium',\n",
            "       'total_phenols', 'flavanoids', 'nonflavanoid_phenols',\n",
            "       'proanthocyanins', 'color_intensity', 'hue',\n",
            "       'od280/od315_of_diluted_wines', 'proline'],\n",
            "      dtype='object')\n"
          ]
        }
      ]
    },
    {
      "cell_type": "code",
      "source": [
        "# Mean Absolute Deviation (MAD)\n",
        "mad_scores = X.apply(lambda col: np.mean(np.abs(col - np.mean(col))))\n",
        "print(\"\\nTop features by MAD:\")\n",
        "print(mad_scores.sort_values(ascending=False).head())\n"
      ],
      "metadata": {
        "colab": {
          "base_uri": "https://localhost:8080/"
        },
        "id": "qs-Tnwh3lpYq",
        "outputId": "444d9c11-b77d-416c-d0b4-cabcdf7e7a05"
      },
      "execution_count": 9,
      "outputs": [
        {
          "output_type": "stream",
          "name": "stdout",
          "text": [
            "\n",
            "Top features by MAD:\n",
            "proline              259.332344\n",
            "magnesium             10.999243\n",
            "alcalinity_of_ash      2.595001\n",
            "color_intensity        1.835831\n",
            "malic_acid             0.920277\n",
            "dtype: float64\n"
          ]
        }
      ]
    },
    {
      "cell_type": "code",
      "source": [
        "# === 2. Wrapper Methods ===\n",
        "print(\"\\n========= Wrapper Methods =========\")\n",
        "\n",
        "# Forward Selection\n",
        "lr = LogisticRegression(max_iter=10000, random_state=0)\n",
        "forward_selector = SequentialFeatureSelector(lr, k_features=5, forward=True)\n",
        "forward_selector = forward_selector.fit(X_scaled, y)\n",
        "print(\"\\nFeatures selected by Forward Selection:\")\n",
        "print(forward_selector.k_feature_names_)"
      ],
      "metadata": {
        "colab": {
          "base_uri": "https://localhost:8080/"
        },
        "id": "cmiBUQqvlpXG",
        "outputId": "8598f98f-52f5-4d0b-b3bc-d4796e3fb500"
      },
      "execution_count": 10,
      "outputs": [
        {
          "output_type": "stream",
          "name": "stdout",
          "text": [
            "\n",
            "========= Wrapper Methods =========\n",
            "\n",
            "Features selected by Forward Selection:\n",
            "('alcohol', 'flavanoids', 'hue', 'od280/od315_of_diluted_wines', 'proline')\n"
          ]
        }
      ]
    },
    {
      "cell_type": "code",
      "source": [
        "\n",
        "# Backward Elimination\n",
        "backward_selector = SequentialFeatureSelector(lr, k_features=5, forward=False)\n",
        "backward_selector = backward_selector.fit(X_scaled, y)\n",
        "print(\"\\nFeatures selected by Backward Elimination:\")\n",
        "print(backward_selector.k_feature_names_)\n"
      ],
      "metadata": {
        "colab": {
          "base_uri": "https://localhost:8080/"
        },
        "id": "TC7_DqxrlpSd",
        "outputId": "e811f4ca-cd28-472e-e40e-13729ac64fa0"
      },
      "execution_count": 11,
      "outputs": [
        {
          "output_type": "stream",
          "name": "stdout",
          "text": [
            "\n",
            "Features selected by Backward Elimination:\n",
            "('alcohol', 'ash', 'flavanoids', 'color_intensity', 'proline')\n"
          ]
        }
      ]
    },
    {
      "cell_type": "code",
      "source": [
        "\n",
        "# Recursive Feature Elimination (RFE)\n",
        "rfe = RFE(lr, n_features_to_select=5)\n",
        "rfe.fit(X_scaled, y)\n",
        "print(\"\\nFeatures selected by RFE:\")\n",
        "print(X.columns[rfe.support_])\n"
      ],
      "metadata": {
        "colab": {
          "base_uri": "https://localhost:8080/"
        },
        "id": "ZOCF5fmSlpQ6",
        "outputId": "c556ecbf-0c54-4446-81aa-51b73cf5eb26"
      },
      "execution_count": 12,
      "outputs": [
        {
          "output_type": "stream",
          "name": "stdout",
          "text": [
            "\n",
            "Features selected by RFE:\n",
            "Index(['alcohol', 'flavanoids', 'color_intensity', 'hue', 'proline'], dtype='object')\n"
          ]
        }
      ]
    },
    {
      "cell_type": "code",
      "source": [
        "# === 3. Embedded Methods ===\n",
        "# Lasso Regularization\n",
        "lasso = LassoCV(cv=5, random_state=0).fit(X_scaled, y)\n",
        "lasso_features = X.columns[lasso.coef_ != 0]\n",
        "print(\"\\nFeatures selected by Lasso Regularization:\")\n",
        "print(lasso_features)"
      ],
      "metadata": {
        "colab": {
          "base_uri": "https://localhost:8080/"
        },
        "id": "Y1oB2qxQmlwh",
        "outputId": "dd733726-9133-4ba3-90ad-0880812de011"
      },
      "execution_count": 13,
      "outputs": [
        {
          "output_type": "stream",
          "name": "stdout",
          "text": [
            "\n",
            "Features selected by Lasso Regularization:\n",
            "Index(['alcohol', 'malic_acid', 'ash', 'alcalinity_of_ash', 'total_phenols',\n",
            "       'flavanoids', 'nonflavanoid_phenols', 'proanthocyanins',\n",
            "       'color_intensity', 'hue', 'od280/od315_of_diluted_wines', 'proline'],\n",
            "      dtype='object')\n"
          ]
        }
      ]
    },
    {
      "cell_type": "code",
      "source": [
        "# Tree-based Method (Random Forest)\n",
        "rf = RandomForestClassifier(random_state=0)\n",
        "rf.fit(X_scaled, y)\n",
        "importances = pd.Series(rf.feature_importances_, index=X.columns)\n",
        "print(\"\\nTop features by Tree-based method:\")\n",
        "print(importances.sort_values(ascending=False).head())\n"
      ],
      "metadata": {
        "colab": {
          "base_uri": "https://localhost:8080/"
        },
        "id": "nk80Xv4bmlu9",
        "outputId": "ccdd8105-9dcb-41ee-859f-7fc4c604b751"
      },
      "execution_count": 14,
      "outputs": [
        {
          "output_type": "stream",
          "name": "stdout",
          "text": [
            "\n",
            "Top features by Tree-based method:\n",
            "proline                         0.193999\n",
            "flavanoids                      0.160954\n",
            "color_intensity                 0.145267\n",
            "alcohol                         0.110700\n",
            "od280/od315_of_diluted_wines    0.109747\n",
            "dtype: float64\n"
          ]
        }
      ]
    }
  ]
}